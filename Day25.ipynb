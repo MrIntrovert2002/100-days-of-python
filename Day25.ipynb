{
 "cells": [
  {
   "cell_type": "code",
   "execution_count": 1,
   "id": "595166d5",
   "metadata": {},
   "outputs": [
    {
     "name": "stdout",
     "output_type": "stream",
     "text": [
      "['day,temp,condition\\n', 'Monday,12,Sunny\\n', 'Tuesday,14,Rain\\n', 'Wednesday,15,Rain\\n', 'Thursday,14,Cloudy\\n', 'Friday,21,Sunny\\n', 'Saturday,22,Sunny\\n', 'Sunday,24,Sunny']\n"
     ]
    }
   ],
   "source": [
    "with open(\"weather_data.csv\") as f:\n",
    "    data = f.readlines()\n",
    "    print(data)"
   ]
  },
  {
   "cell_type": "code",
   "execution_count": 2,
   "id": "ac6c076d",
   "metadata": {},
   "outputs": [
    {
     "name": "stdout",
     "output_type": "stream",
     "text": [
      "[12, 14, 15, 14, 21, 22, 24]\n"
     ]
    }
   ],
   "source": [
    "import csv\n",
    "\n",
    "with open(\"weather_data.csv\") as f:\n",
    "    data = csv.reader(f)\n",
    "    # print(data)\n",
    "    temperatures = []\n",
    "    for row in data:\n",
    "        if row[1] != \"temp\":\n",
    "            temperatures.append(int(row[1]))\n",
    "print(temperatures)"
   ]
  },
  {
   "cell_type": "code",
   "execution_count": 3,
   "id": "61f8f415",
   "metadata": {},
   "outputs": [],
   "source": [
    "import pandas\n",
    "data = pandas.read_csv(\"weather_data.csv\")"
   ]
  },
  {
   "cell_type": "code",
   "execution_count": 4,
   "id": "92b2edf4",
   "metadata": {},
   "outputs": [
    {
     "name": "stdout",
     "output_type": "stream",
     "text": [
      "<class 'pandas.core.frame.DataFrame'> \n",
      "          day  temp condition\n",
      "0     Monday    12     Sunny\n",
      "1    Tuesday    14      Rain\n",
      "2  Wednesday    15      Rain\n",
      "3   Thursday    14    Cloudy\n",
      "4     Friday    21     Sunny\n",
      "5   Saturday    22     Sunny\n",
      "6     Sunday    24     Sunny\n",
      "<class 'pandas.core.series.Series'> \n",
      " 0    12\n",
      "1    14\n",
      "2    15\n",
      "3    14\n",
      "4    21\n",
      "5    22\n",
      "6    24\n",
      "Name: temp, dtype: int64\n"
     ]
    }
   ],
   "source": [
    "print(type(data), \"\\n\", data)\n",
    "print(type(data[\"temp\"]), \"\\n\", data[\"temp\"])"
   ]
  },
  {
   "cell_type": "code",
   "execution_count": 5,
   "id": "4187f2de",
   "metadata": {},
   "outputs": [
    {
     "name": "stdout",
     "output_type": "stream",
     "text": [
      "[12, 14, 15, 14, 21, 22, 24] 17.428571428571427 17.428571428571427 24\n"
     ]
    }
   ],
   "source": [
    "temp_data = data[\"temp\"].to_list()\n",
    "avg_temp = sum(temp_data)/len(temp_data)\n",
    "mean_temp = data[\"temp\"].mean()\n",
    "max_temp = data[\"temp\"].max() # data.temp.max()\n",
    "print(temp_data, avg_temp, mean_temp, max_temp)"
   ]
  },
  {
   "cell_type": "code",
   "execution_count": 6,
   "id": "c77907cc",
   "metadata": {},
   "outputs": [
    {
     "name": "stdout",
     "output_type": "stream",
     "text": [
      "      day  temp condition\n",
      "0  Monday    12     Sunny\n",
      "      day  temp condition\n",
      "6  Sunday    24     Sunny\n"
     ]
    }
   ],
   "source": [
    "print(data[data.day == \"Monday\"])\n",
    "print(data[data.temp == max_temp])"
   ]
  },
  {
   "cell_type": "code",
   "execution_count": 7,
   "id": "7f266604",
   "metadata": {},
   "outputs": [
    {
     "name": "stdout",
     "output_type": "stream",
     "text": [
      "0    Sunny\n",
      "Name: condition, dtype: object\n",
      "53.6\n"
     ]
    }
   ],
   "source": [
    "monday = data[data.day == \"Monday\"]\n",
    "print(monday.condition)\n",
    "farenheit_temp = (monday.temp[0] * (9/5)) + 32\n",
    "print(farenheit_temp)"
   ]
  },
  {
   "cell_type": "code",
   "execution_count": 8,
   "id": "1189ae02",
   "metadata": {},
   "outputs": [],
   "source": [
    "# Create a dataframe from scratch\n",
    "data_dict = {\n",
    "    \"students\": [\"Amy\", \"James\", \"Angela\"],\n",
    "    \"scores\": [76, 56, 65]\n",
    "}\n",
    "data = pandas.DataFrame(data_dict)\n",
    "data.to_csv(\"new_data.csv\")"
   ]
  },
  {
   "cell_type": "code",
   "execution_count": 9,
   "id": "5c2ca1a4",
   "metadata": {},
   "outputs": [],
   "source": [
    "data = pandas.read_csv(\"2018_Central_Park_Squirrel_Census_-_Squirrel_Data.csv\")\n",
    "\n",
    "colors = data[\"Primary Fur Color\"].to_list()\n",
    "unique_colors = {}\n",
    "for i in colors:\n",
    "    if i not in unique_colors:\n",
    "        unique_colors[i] = 1\n",
    "    else:\n",
    "        unique_colors[i] += 1\n",
    "\n",
    "keys = []\n",
    "for i in unique_colors.keys():\n",
    "    keys.append(i)\n",
    "keys.pop(0)\n",
    "\n",
    "values = []\n",
    "for i in keys:\n",
    "    values.append(unique_colors[i])\n",
    "\n",
    "my_dict = {\n",
    "    \"Fur Color\": keys,\n",
    "    \"Count\": values\n",
    "}\n",
    "new_data = pandas.DataFrame(my_dict)\n",
    "new_data.to_csv(\"squirrel_color_data.csv\")"
   ]
  }
 ],
 "metadata": {
  "kernelspec": {
   "display_name": "Python 3",
   "language": "python",
   "name": "python3"
  },
  "language_info": {
   "codemirror_mode": {
    "name": "ipython",
    "version": 3
   },
   "file_extension": ".py",
   "mimetype": "text/x-python",
   "name": "python",
   "nbconvert_exporter": "python",
   "pygments_lexer": "ipython3",
   "version": "3.11.0"
  }
 },
 "nbformat": 4,
 "nbformat_minor": 5
}
