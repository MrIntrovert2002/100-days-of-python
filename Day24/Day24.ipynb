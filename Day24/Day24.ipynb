{
 "cells": [
  {
   "cell_type": "code",
   "execution_count": 6,
   "id": "62334d2a",
   "metadata": {},
   "outputs": [
    {
     "name": "stdout",
     "output_type": "stream",
     "text": [
      "Hello, my name is Mr. Introvert!\n",
      "I am 12 years old.\n",
      "My favourite food is bowl of hot noodles.\n"
     ]
    }
   ],
   "source": [
    "with open(\"Day24_file.txt\") as file:\n",
    "    contents = file.read()\n",
    "    print(contents)"
   ]
  },
  {
   "cell_type": "code",
   "execution_count": 7,
   "id": "c6e71aa7",
   "metadata": {},
   "outputs": [],
   "source": [
    "with open(\"Day24_file.txt\", \"w\") as file:\n",
    "    file.write(\"New Text!\")"
   ]
  },
  {
   "cell_type": "code",
   "execution_count": 8,
   "id": "2e33df0d",
   "metadata": {},
   "outputs": [],
   "source": [
    "with open(\"Day24_file.txt\", \"a\") as file:\n",
    "    file.write(\"\\nNew Text!\")"
   ]
  },
  {
   "cell_type": "code",
   "execution_count": 9,
   "id": "cc3ccf2c",
   "metadata": {},
   "outputs": [],
   "source": [
    "with open(\"Day24_new_file.txt\", \"w\") as file:\n",
    "    file.write(\"New Text!\")"
   ]
  },
  {
   "cell_type": "code",
   "execution_count": 10,
   "id": "173d5722",
   "metadata": {},
   "outputs": [
    {
     "data": {
      "text/plain": [
       "'Hello, my name is Mr. Introvert!\\nI am 12 years old.\\nMy favourite food is bowl of hot noodles.'"
      ]
     },
     "execution_count": 10,
     "metadata": {},
     "output_type": "execute_result"
    }
   ],
   "source": [
    "\"\"\"Hello, my name is Mr. Introvert!\n",
    "I am 12 years old.\n",
    "My favourite food is bowl of hot noodles.\"\"\""
   ]
  },
  {
   "cell_type": "code",
   "execution_count": 11,
   "id": "6d8da62e",
   "metadata": {},
   "outputs": [
    {
     "name": "stdout",
     "output_type": "stream",
     "text": [
      "asdf\n"
     ]
    }
   ],
   "source": [
    "with open(\"D:/E Drive/Study/Python/Desktop_file.txt\") as file:\n",
    "    contents = file.read()\n",
    "    print(contents)"
   ]
  },
  {
   "cell_type": "code",
   "execution_count": 12,
   "id": "d6742816",
   "metadata": {},
   "outputs": [
    {
     "name": "stdout",
     "output_type": "stream",
     "text": [
      "asdf\n"
     ]
    }
   ],
   "source": [
    "with open(\"C:/Users/Mr. Introvert/Desktop/Desktop_file.txt\") as file:\n",
    "    contents = file.read()\n",
    "    print(contents)"
   ]
  },
  {
   "cell_type": "code",
   "execution_count": 13,
   "id": "fc257ce7",
   "metadata": {},
   "outputs": [
    {
     "name": "stdout",
     "output_type": "stream",
     "text": [
      "asdf\n"
     ]
    }
   ],
   "source": [
    "with open(\"./../../../Desktop_file.txt\") as file:\n",
    "    contents = file.read()\n",
    "    print(contents)"
   ]
  }
 ],
 "metadata": {
  "kernelspec": {
   "display_name": "Python 3",
   "language": "python",
   "name": "python3"
  },
  "language_info": {
   "codemirror_mode": {
    "name": "ipython",
    "version": 3
   },
   "file_extension": ".py",
   "mimetype": "text/x-python",
   "name": "python",
   "nbconvert_exporter": "python",
   "pygments_lexer": "ipython3",
   "version": "3.11.0"
  }
 },
 "nbformat": 4,
 "nbformat_minor": 5
}
